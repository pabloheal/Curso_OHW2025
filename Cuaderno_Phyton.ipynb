{
 "cells": [
  {
   "cell_type": "code",
   "execution_count": null,
   "id": "13c1e1d1-113b-4fdf-baae-86291f02f608",
   "metadata": {},
   "outputs": [],
   "source": [
    "# Ejercicios para JupiterLab\n",
    "## Aprendiendo a usar Python a traves de cuadernos JupiterLab"
   ]
  },
  {
   "cell_type": "code",
   "execution_count": 1,
   "id": "08978339-4190-45da-a15b-3b9ba0c9872b",
   "metadata": {},
   "outputs": [],
   "source": [
    "import numpy as np\n",
    "import matplotlib.pyplot as plt"
   ]
  },
  {
   "cell_type": "code",
   "execution_count": 2,
   "id": "bb3bfe70-a204-4fb9-832c-9ff142cfba24",
   "metadata": {},
   "outputs": [],
   "source": [
    "masa = 47.5\n",
    "edad = 122\n",
    "masa = masa * 2\n",
    "edad = edad - 20"
   ]
  },
  {
   "cell_type": "code",
   "execution_count": 3,
   "id": "154314d4-24d1-451b-939a-f0ce7a6b5145",
   "metadata": {},
   "outputs": [
    {
     "name": "stdout",
     "output_type": "stream",
     "text": [
      "95.0 102\n"
     ]
    }
   ],
   "source": [
    "print(masa, edad)"
   ]
  },
  {
   "cell_type": "code",
   "execution_count": 4,
   "id": "7d46d9be-a9a6-417e-a1b9-c55ef877974b",
   "metadata": {},
   "outputs": [
    {
     "data": {
      "text/plain": [
       "float"
      ]
     },
     "execution_count": 4,
     "metadata": {},
     "output_type": "execute_result"
    }
   ],
   "source": [
    "type(masa)"
   ]
  },
  {
   "cell_type": "code",
   "execution_count": 5,
   "id": "7f90d331-08c3-4496-b40e-6d7f7a6aace6",
   "metadata": {},
   "outputs": [
    {
     "data": {
      "text/plain": [
       "int"
      ]
     },
     "execution_count": 5,
     "metadata": {},
     "output_type": "execute_result"
    }
   ],
   "source": [
    "type(edad)"
   ]
  },
  {
   "cell_type": "code",
   "execution_count": 6,
   "id": "a94c4744-45a0-4b99-8777-615fd603c824",
   "metadata": {},
   "outputs": [],
   "source": [
    "name = \"Pablo Hernández\""
   ]
  },
  {
   "cell_type": "code",
   "execution_count": 7,
   "id": "50b79bf9-f73c-4158-a273-a316ca751256",
   "metadata": {},
   "outputs": [
    {
     "data": {
      "text/plain": [
       "str"
      ]
     },
     "execution_count": 7,
     "metadata": {},
     "output_type": "execute_result"
    }
   ],
   "source": [
    "type(name)"
   ]
  },
  {
   "cell_type": "markdown",
   "id": "6621ac99-622d-47ae-8778-b21b399e17a7",
   "metadata": {},
   "source": [
    "Crear matrices"
   ]
  },
  {
   "cell_type": "code",
   "execution_count": 8,
   "id": "eb9f919c-cd83-4332-a160-2ccb9ea1fcfb",
   "metadata": {},
   "outputs": [],
   "source": [
    "a = np.random.normal(size=(15, 2, 1))"
   ]
  },
  {
   "cell_type": "code",
   "execution_count": 9,
   "id": "ead18f96-8daf-42a9-9deb-b8812a32f18c",
   "metadata": {},
   "outputs": [
    {
     "name": "stdout",
     "output_type": "stream",
     "text": [
      "[[[-0.39121859]\n",
      "  [-0.91137382]]\n",
      "\n",
      " [[-1.24468966]\n",
      "  [-0.90259325]]\n",
      "\n",
      " [[-1.38721028]\n",
      "  [-0.02914403]]\n",
      "\n",
      " [[-0.19760192]\n",
      "  [-0.34752122]]\n",
      "\n",
      " [[-0.95687919]\n",
      "  [ 0.35806497]]\n",
      "\n",
      " [[-0.25473188]\n",
      "  [-1.18311489]]\n",
      "\n",
      " [[ 1.74810733]\n",
      "  [-0.72013066]]\n",
      "\n",
      " [[-2.26599027]\n",
      "  [-0.56739654]]\n",
      "\n",
      " [[ 0.87929459]\n",
      "  [ 1.03935195]]\n",
      "\n",
      " [[-0.54310724]\n",
      "  [ 0.64565799]]\n",
      "\n",
      " [[-0.60433129]\n",
      "  [-0.71622422]]\n",
      "\n",
      " [[-1.06145062]\n",
      "  [ 0.45031061]]\n",
      "\n",
      " [[ 1.19921315]\n",
      "  [ 1.36788012]]\n",
      "\n",
      " [[ 0.03131372]\n",
      "  [ 0.51207875]]\n",
      "\n",
      " [[ 1.41509507]\n",
      "  [ 0.8812993 ]]]\n"
     ]
    }
   ],
   "source": [
    "print(a)"
   ]
  },
  {
   "cell_type": "markdown",
   "id": "86bf1f2b-014e-40b0-9e26-9256c10c3826",
   "metadata": {},
   "source": [
    "En Phython empieza a contar desde 0"
   ]
  },
  {
   "cell_type": "code",
   "execution_count": 13,
   "id": "3a5df076-a532-448e-86a3-5d147bdc6725",
   "metadata": {},
   "outputs": [
    {
     "name": "stdout",
     "output_type": "stream",
     "text": [
      "P\n",
      "Hernández\n",
      "Pablo\n"
     ]
    }
   ],
   "source": [
    "nombre = \"Pablo Hernández\"\n",
    "print(nombre[0])\n",
    "print(nombre[-9:])\n",
    "print(nombre[:5])"
   ]
  },
  {
   "cell_type": "code",
   "execution_count": 14,
   "id": "a538d002-82a0-4362-b35a-febb79ae6357",
   "metadata": {},
   "outputs": [],
   "source": [
    "data =[\n",
    "    [\"A\", \"B\", \"C\"],\n",
    "    [\"D\", \"E\", \"F\"],\n",
    "    [\"G\", \"H\", \"I\"]\n",
    "]"
   ]
  },
  {
   "cell_type": "code",
   "execution_count": 15,
   "id": "acf551d7-e37f-41cf-a6e7-f0affb66ee46",
   "metadata": {},
   "outputs": [
    {
     "name": "stdout",
     "output_type": "stream",
     "text": [
      "[['A', 'B', 'C'], ['D', 'E', 'F'], ['G', 'H', 'I']]\n"
     ]
    }
   ],
   "source": [
    "print(data)"
   ]
  },
  {
   "cell_type": "code",
   "execution_count": 16,
   "id": "26257639-aac8-49f4-b70b-63cf4db348ee",
   "metadata": {},
   "outputs": [],
   "source": [
    "data=np.matrix(data)"
   ]
  },
  {
   "cell_type": "code",
   "execution_count": 17,
   "id": "4308c149-e8f6-444a-a499-8a6ae5234d02",
   "metadata": {},
   "outputs": [
    {
     "data": {
      "text/plain": [
       "matrix([['A', 'B', 'C'],\n",
       "        ['D', 'E', 'F'],\n",
       "        ['G', 'H', 'I']], dtype='<U1')"
      ]
     },
     "execution_count": 17,
     "metadata": {},
     "output_type": "execute_result"
    }
   ],
   "source": [
    "data"
   ]
  },
  {
   "cell_type": "code",
   "execution_count": 18,
   "id": "4a8f539f-38b5-4afd-bf80-c999bd0fe700",
   "metadata": {},
   "outputs": [
    {
     "name": "stdout",
     "output_type": "stream",
     "text": [
      "[['A' 'B' 'C']\n",
      " ['D' 'E' 'F']\n",
      " ['G' 'H' 'I']]\n"
     ]
    }
   ],
   "source": [
    "#Ahora vamos a imprimir la matriz\n",
    "print(data[:,:])"
   ]
  },
  {
   "cell_type": "code",
   "execution_count": 19,
   "id": "fc1b8f78-d592-42c3-8c65-3d92de3205d0",
   "metadata": {},
   "outputs": [
    {
     "name": "stdout",
     "output_type": "stream",
     "text": [
      "F\n"
     ]
    }
   ],
   "source": [
    "print(data[1,2])"
   ]
  },
  {
   "cell_type": "markdown",
   "id": "3f64fd59-4a5a-4650-9af4-f928588f4d6a",
   "metadata": {},
   "source": [
    "Con la función shape se puede ver el tamaño de la matriz"
   ]
  },
  {
   "cell_type": "code",
   "execution_count": 21,
   "id": "32ab3eef-e84e-4cdf-af68-65d3ced0981c",
   "metadata": {},
   "outputs": [
    {
     "data": {
      "text/plain": [
       "(3, 3)"
      ]
     },
     "execution_count": 21,
     "metadata": {},
     "output_type": "execute_result"
    }
   ],
   "source": [
    "np.shape(data)"
   ]
  },
  {
   "cell_type": "markdown",
   "id": "f5250baa-f383-4cba-b1da-c18362ffce17",
   "metadata": {},
   "source": [
    "Crear una nueva matriz numériva de integers"
   ]
  },
  {
   "cell_type": "code",
   "execution_count": 22,
   "id": "7d23c620-6139-4270-b717-b28765c6f817",
   "metadata": {},
   "outputs": [],
   "source": [
    "data_n = [\n",
    "    [1,2,3],\n",
    "    [4,5,6],\n",
    "    [7,8,9]\n",
    "]\n",
    "# Convertir a una matriz numpy\n",
    "data_n=np.matrix(data_n)"
   ]
  },
  {
   "cell_type": "code",
   "execution_count": 23,
   "id": "ac1d91d3-63cc-4a7e-9700-afc6b63dfb91",
   "metadata": {},
   "outputs": [
    {
     "name": "stdout",
     "output_type": "stream",
     "text": [
      "[[1 2 3]\n",
      " [4 5 6]\n",
      " [7 8 9]]\n"
     ]
    }
   ],
   "source": [
    "print(data_n[:,:])"
   ]
  },
  {
   "cell_type": "markdown",
   "id": "a307214c-ccc0-44cc-b590-223068f5b48b",
   "metadata": {},
   "source": [
    "Aplicando la librería numpy se pueden hacer operaciones dentro de la matriz"
   ]
  },
  {
   "cell_type": "code",
   "execution_count": 24,
   "id": "28f2dad7-2eb6-4e80-91dd-52f908bdfd14",
   "metadata": {},
   "outputs": [
    {
     "data": {
      "text/plain": [
       "matrix([[7, 8, 9]])"
      ]
     },
     "execution_count": 24,
     "metadata": {},
     "output_type": "execute_result"
    }
   ],
   "source": [
    "np.max(data_n, axis=0)\n",
    "# Indica el máximo, pero también se puede pedir el min, mean o median por ejemplo\n",
    "# Con Tab se muestran las operaciones disponibles con la aplicación"
   ]
  },
  {
   "cell_type": "code",
   "execution_count": 25,
   "id": "e5c05e96-f21e-4a76-9834-82928aa3efc4",
   "metadata": {},
   "outputs": [
    {
     "data": {
      "text/plain": [
       "matrix([[1],\n",
       "        [4],\n",
       "        [7]])"
      ]
     },
     "execution_count": 25,
     "metadata": {},
     "output_type": "execute_result"
    }
   ],
   "source": [
    "np.min(data_n, axis=1)"
   ]
  },
  {
   "cell_type": "code",
   "execution_count": 26,
   "id": "13b0bdd8-ab26-4251-8fed-62dae5028677",
   "metadata": {},
   "outputs": [
    {
     "data": {
      "text/plain": [
       "np.float64(5.0)"
      ]
     },
     "execution_count": 26,
     "metadata": {},
     "output_type": "execute_result"
    }
   ],
   "source": [
    "np.mean(data_n)"
   ]
  },
  {
   "cell_type": "markdown",
   "id": "35639fd8-8980-43df-b449-0a9b5ba1e729",
   "metadata": {},
   "source": [
    "Condicionales también se aplican en Python"
   ]
  },
  {
   "cell_type": "code",
   "execution_count": 27,
   "id": "e88a7d62-491d-4b25-85fe-e2a9e25073f3",
   "metadata": {},
   "outputs": [
    {
     "data": {
      "text/plain": [
       "np.int64(1)"
      ]
     },
     "execution_count": 27,
     "metadata": {},
     "output_type": "execute_result"
    }
   ],
   "source": [
    "np.min(data_n)"
   ]
  },
  {
   "cell_type": "code",
   "execution_count": 28,
   "id": "4e9df626-c2c0-430e-88f7-0fc34b78a367",
   "metadata": {},
   "outputs": [
    {
     "name": "stdout",
     "output_type": "stream",
     "text": [
      "1\n"
     ]
    }
   ],
   "source": [
    "print(np.min(data_n))"
   ]
  },
  {
   "cell_type": "markdown",
   "id": "302d25b9-69f1-45bc-abec-122d01c747ab",
   "metadata": {},
   "source": [
    "if abre la secuencia del condcional y else si esa condición no se cumpke entonces hagi lo otro"
   ]
  },
  {
   "cell_type": "code",
   "execution_count": 38,
   "id": "f0a7d829-6825-42a8-805f-dac0518d64c8",
   "metadata": {},
   "outputs": [
    {
     "name": "stdout",
     "output_type": "stream",
     "text": [
      "1\n"
     ]
    }
   ],
   "source": [
    "num = np.min(data_n)\n",
    "print(str(num))"
   ]
  },
  {
   "cell_type": "code",
   "execution_count": 33,
   "id": "3b34bc47-5466-4fa0-a14b-3763619615b4",
   "metadata": {},
   "outputs": [
    {
     "name": "stdout",
     "output_type": "stream",
     "text": [
      "1 es más grande que 5\n"
     ]
    }
   ],
   "source": [
    "num = np.min(data_n)\n",
    "if num <= 5:\n",
    "    print(str(num), \"es más grande que 5\")\n",
    "else:\n",
    "    print(str(num), \"no es más grande que 5\")\n",
    "    print(\"hecho\")"
   ]
  },
  {
   "cell_type": "code",
   "execution_count": 36,
   "id": "af27da8a",
   "metadata": {},
   "outputs": [
    {
     "name": "stdout",
     "output_type": "stream",
     "text": [
      "1 no es más grande que 5\n",
      "hecho\n"
     ]
    }
   ],
   "source": [
    "num = np.min(data_n)\n",
    "if num >= 5:\n",
    "    print(str(num), \"es más grande que 5\")\n",
    "else:\n",
    "    print(str(num), \"no es más grande que 5\")\n",
    "    print(\"hecho\")"
   ]
  },
  {
   "cell_type": "code",
   "execution_count": 39,
   "id": "901bab14-ff8b-403c-967b-ef0ac61efc59",
   "metadata": {},
   "outputs": [
    {
     "name": "stdout",
     "output_type": "stream",
     "text": [
      "5.0\n"
     ]
    }
   ],
   "source": [
    "num = np.mean(data_n)\n",
    "print(str(num))"
   ]
  },
  {
   "cell_type": "code",
   "execution_count": 40,
   "id": "40160aed",
   "metadata": {},
   "outputs": [
    {
     "name": "stdout",
     "output_type": "stream",
     "text": [
      "5.0 es más grande que 5\n"
     ]
    }
   ],
   "source": [
    "num = np.mean(data_n)\n",
    "if num >= 5:\n",
    "    print(str(num), \"es más grande que 5\")\n",
    "elif num== 5:\n",
    "    print(\"no se cumple\")\n",
    "else:\n",
    "    print(str(num), \"no es más grande que 5\")\n",
    "    print(\"hecho\")"
   ]
  },
  {
   "cell_type": "markdown",
   "id": "519008d6-ab01-48e1-a7b7-c3d179d85f20",
   "metadata": {},
   "source": [
    "Ahora vamos a hacer gráficos; retomar la matriz \"a\" que ya habíamos creado"
   ]
  },
  {
   "cell_type": "code",
   "execution_count": 41,
   "id": "ba146d3f-93e9-46d5-abd6-b9e2bcb15038",
   "metadata": {},
   "outputs": [
    {
     "name": "stdout",
     "output_type": "stream",
     "text": [
      "[[[-0.39121859]\n",
      "  [-0.91137382]]\n",
      "\n",
      " [[-1.24468966]\n",
      "  [-0.90259325]]\n",
      "\n",
      " [[-1.38721028]\n",
      "  [-0.02914403]]\n",
      "\n",
      " [[-0.19760192]\n",
      "  [-0.34752122]]\n",
      "\n",
      " [[-0.95687919]\n",
      "  [ 0.35806497]]\n",
      "\n",
      " [[-0.25473188]\n",
      "  [-1.18311489]]\n",
      "\n",
      " [[ 1.74810733]\n",
      "  [-0.72013066]]\n",
      "\n",
      " [[-2.26599027]\n",
      "  [-0.56739654]]\n",
      "\n",
      " [[ 0.87929459]\n",
      "  [ 1.03935195]]\n",
      "\n",
      " [[-0.54310724]\n",
      "  [ 0.64565799]]\n",
      "\n",
      " [[-0.60433129]\n",
      "  [-0.71622422]]\n",
      "\n",
      " [[-1.06145062]\n",
      "  [ 0.45031061]]\n",
      "\n",
      " [[ 1.19921315]\n",
      "  [ 1.36788012]]\n",
      "\n",
      " [[ 0.03131372]\n",
      "  [ 0.51207875]]\n",
      "\n",
      " [[ 1.41509507]\n",
      "  [ 0.8812993 ]]]\n"
     ]
    }
   ],
   "source": [
    "print(a)"
   ]
  },
  {
   "cell_type": "markdown",
   "id": "c7387f48-9a13-4482-a703-5ed87920904e",
   "metadata": {},
   "source": [
    "Utilizar la librería matplotlib"
   ]
  },
  {
   "cell_type": "code",
   "execution_count": 42,
   "id": "03ba2efb-a525-4e86-b041-a1bf590ca925",
   "metadata": {},
   "outputs": [
    {
     "data": {
      "image/png": "[encoded data removed]",
      "text/plain": [
       "<Figure size 640x480 with 1 Axes>"
      ]
     },
     "metadata": {},
     "output_type": "display_data"
    }
   ],
   "source": [
    "fig, ax = plt.subplots()\n",
    "# Pone un cuadro donde colocams el gráfico"
   ]
  },
  {
   "cell_type": "code",
   "execution_count": 45,
   "id": "86b456ae-7e1d-43e2-bdb0-1ecf7e572f3f",
   "metadata": {},
   "outputs": [
    {
     "data": {
      "image/png": "[encoded data removed]",
      "text/plain": [
       "<Figure size 640x480 with 1 Axes>"
      ]
     },
     "metadata": {},
     "output_type": "display_data"
    }
   ],
   "source": [
    "fig, ax = plt.subplots()\n",
    "ax = plt.plot(a[0, :], color=\"red\", linewidth= \"2.5\", linestyle= \"dashed\")\n",
    "# Recordad que file 0 es la primera fila"
   ]
  },
  {
   "cell_type": "code",
   "execution_count": 47,
   "id": "1348b380-ea2f-4589-9532-c649979b245e",
   "metadata": {},
   "outputs": [
    {
     "data": {
      "text/plain": [
       "Text(0.5, 1.0, 'Figura a (probando edición)')"
      ]
     },
     "execution_count": 47,
     "metadata": {},
     "output_type": "execute_result"
    },
    {
     "data": {
      "image/png": "[encoded data removed]",
      "text/plain": [
       "<Figure size 640x480 with 1 Axes>"
      ]
     },
     "metadata": {},
     "output_type": "display_data"
    }
   ],
   "source": [
    "fig, ax = plt.subplots()\n",
    "ax = plt.plot(a[0, :], color=\"red\", linewidth= \"2.5\", linestyle= \"dashed\")\n",
    "plt.xlabel(\"axis x\")\n",
    "plt.ylabel(\"axis y\")\n",
    "plt.title(\"Figura a (probando edición)\", color=\"blue\")\n",
    "plt.show()"
   ]
  },
  {
   "cell_type": "markdown",
   "id": "7b20bde3-f905-4456-a5e4-a09d99169a50",
   "metadata": {},
   "source": [
    "Se pueden importar otras librerias para enriqucer las opciones de trabajo:"
   ]
  },
  {
   "cell_type": "code",
   "execution_count": null,
   "id": "fdb89232-3010-4037-97d3-4856fb1433c4",
   "metadata": {},
   "outputs": [],
   "source": [
    "import numpy as np # Librería que procesa matrices\n",
    "import pandas as pd # Librería alternativa para procesar tablas\n",
    "import netCDF4 as nc # La librería más usada para g from raficar datos\n",
    "import mat´lotlib.pyplot as plt # importa el módulo pyplot from matplotlib.dates"
   ]
  },
  {
   "cell_type": "code",
   "execution_count": null,
   "id": "955451f5-3f38-4133-9054-eea9ce54f9e5",
   "metadata": {},
   "outputs": [],
   "source": []
  },
  {
   "cell_type": "code",
   "execution_count": null,
   "id": "18113f11-6a28-44ab-962e-c942e221ae1a",
   "metadata": {},
   "outputs": [],
   "source": []
  }
 ],
 "metadata": {
  "kernelspec": {
   "display_name": "Python [conda env:jupyterlab] *",
   "language": "python",
   "name": "conda-env-jupyterlab-py"
  },
  "language_info": {
   "codemirror_mode": {
    "name": "ipython",
    "version": 3
   },
   "file_extension": ".py",
   "mimetype": "text/x-python",
   "name": "python",
   "nbconvert_exporter": "python",
   "pygments_lexer": "ipython3",
   "version": "3.12.10"
  }
 },
 "nbformat": 4,
 "nbformat_minor": 5
}
