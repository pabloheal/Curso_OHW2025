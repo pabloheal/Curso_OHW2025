{
 "cells": [
  {
   "cell_type": "markdown",
   "id": "42de27b6-792a-4995-beae-14d7d746e700",
   "metadata": {},
   "source": [
    "# Título: Explorando JupyterLab\n",
    "## Subtítulo: Experimentar con códigos y textos\n",
    "Estamos aprendiendo a usar los cuadernos jupyter"
   ]
  },
  {
   "cell_type": "markdown",
   "id": "249c9a14-656a-4f92-b475-c8ba15c859e7",
   "metadata": {},
   "source": [
    "Puede funcionar como calculadora o realizar funciones"
   ]
  },
  {
   "cell_type": "code",
   "execution_count": 1,
   "id": "85fadc83-598e-4478-9cb3-762c2dea18cc",
   "metadata": {},
   "outputs": [
    {
     "data": {
      "text/plain": [
       "480"
      ]
     },
     "execution_count": 1,
     "metadata": {},
     "output_type": "execute_result"
    }
   ],
   "source": [
    "240 * 2"
   ]
  },
  {
   "cell_type": "markdown",
   "id": "6ef02bad-b4e1-48ac-95a6-2757c26f3d63",
   "metadata": {},
   "source": [
    "Puede actuar como terminal (e.g. ver que hay en nestra carpeta)"
   ]
  },
  {
   "cell_type": "code",
   "execution_count": 3,
   "id": "7f8a0334-e9d5-4900-8338-26d05b59e5eb",
   "metadata": {},
   "outputs": [
    {
     "name": "stdout",
     "output_type": "stream",
     "text": [
      " El volumen de la unidad C es Windows\n",
      " El n£mero de serie del volumen es: 7EB6-A6D6\n",
      "\n",
      " Directorio de C:\\Users\\pablo\n",
      "\n",
      "15/05/2025  04:09 p. m.    <DIR>          .\n",
      "22/02/2025  01:58 p. m.    <DIR>          ..\n",
      "05/05/2025  07:49 a. m.    <DIR>          .conda\n",
      "09/05/2025  08:30 p. m.                55 .gitconfig\n",
      "15/05/2025  04:03 p. m.    <DIR>          .ipynb_checkpoints\n",
      "07/05/2025  09:47 a. m.    <DIR>          .ipython\n",
      "07/05/2025  09:47 a. m.    <DIR>          .jupyter\n",
      "11/03/2023  03:41 p. m.    <DIR>          .ms-ad\n",
      "22/02/2025  02:07 p. m.    <DIR>          Contacts\n",
      "15/05/2025  03:24 p. m.    <DIR>          Curso_OHW2025\n",
      "14/09/2024  04:36 p. m.    <DIR>          Documents\n",
      "10/05/2025  06:40 p. m.    <DIR>          Downloads\n",
      "22/02/2025  02:07 p. m.    <DIR>          Favorites\n",
      "22/02/2025  02:07 p. m.    <DIR>          Links\n",
      "05/05/2025  07:49 a. m.    <DIR>          miniconda3\n",
      "22/02/2025  02:07 p. m.    <DIR>          Music\n",
      "15/05/2025  02:40 p. m.    <DIR>          OneDrive\n",
      "25/08/2023  09:19 a. m.    <DIR>          PCManger\n",
      "15/05/2025  12:59 p. m.    <DIR>          proyectobase\n",
      "14/05/2025  01:19 a. m.    <DIR>          prueba2\n",
      "22/02/2025  02:07 p. m.    <DIR>          Saved Games\n",
      "22/02/2025  02:07 p. m.    <DIR>          Searches\n",
      "15/05/2025  03:48 p. m.               667 Untitled.ipynb\n",
      "07/05/2025  09:18 a. m.                 0 untitled.txt\n",
      "15/05/2025  03:48 p. m.             1,381 Untitled1.ipynb\n",
      "15/05/2025  04:09 p. m.             1,573 Untitled2.ipynb\n",
      "22/02/2025  02:07 p. m.    <DIR>          Videos\n",
      "               5 archivos          3,676 bytes\n",
      "              22 dirs  50,899,476,480 bytes libres\n"
     ]
    }
   ],
   "source": [
    "ls"
   ]
  },
  {
   "cell_type": "markdown",
   "id": "5462d706-574a-4461-8154-7376c0cb2c7e",
   "metadata": {},
   "source": [
    "JupyterLab es la interfaz que usaremos para programa en Phyton"
   ]
  },
  {
   "cell_type": "code",
   "execution_count": null,
   "id": "16b342b1-d10e-40b5-bb86-67144fa423c4",
   "metadata": {},
   "outputs": [],
   "source": []
  }
 ],
 "metadata": {
  "kernelspec": {
   "display_name": "Python [conda env:jupyterlab] *",
   "language": "python",
   "name": "conda-env-jupyterlab-py"
  },
  "language_info": {
   "codemirror_mode": {
    "name": "ipython",
    "version": 3
   },
   "file_extension": ".py",
   "mimetype": "text/x-python",
   "name": "python",
   "nbconvert_exporter": "python",
   "pygments_lexer": "ipython3",
   "version": "3.12.10"
  }
 },
 "nbformat": 4,
 "nbformat_minor": 5
}
